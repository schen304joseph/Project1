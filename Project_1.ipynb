{
  "nbformat": 4,
  "nbformat_minor": 0,
  "metadata": {
    "colab": {
      "name": "Project 1",
      "provenance": [],
      "collapsed_sections": [],
      "authorship_tag": "ABX9TyOMSdbulHqbzA+lYOoDwFjh",
      "include_colab_link": true
    },
    "kernelspec": {
      "name": "python3",
      "display_name": "Python 3"
    },
    "language_info": {
      "name": "python"
    }
  },
  "cells": [
    {
      "cell_type": "markdown",
      "metadata": {
        "id": "view-in-github",
        "colab_type": "text"
      },
      "source": [
        "<a href=\"https://colab.research.google.com/github/schen304joseph/Project1/blob/main/Project_1.ipynb\" target=\"_parent\"><img src=\"https://colab.research.google.com/assets/colab-badge.svg\" alt=\"Open In Colab\"/></a>"
      ]
    },
    {
      "cell_type": "code",
      "metadata": {
        "id": "glqhuzA3eS89"
      },
      "source": [
        "# overhead\n",
        "\n",
        "import logging\n",
        "import math\n",
        "import random\n",
        "import numpy as np\n",
        "import time\n",
        "import torch as t\n",
        "import torch.nn as nn\n",
        "from torch import optim\n",
        "from torch.nn import utils\n",
        "import matplotlib.pyplot as plt\n",
        "\n",
        "logger = logging.getLogger(__name__)"
      ],
      "execution_count": null,
      "outputs": []
    },
    {
      "cell_type": "code",
      "metadata": {
        "id": "jFBseB44eklx"
      },
      "source": [
        "# environment parameters\n",
        "\n",
        "FRAME_TIME = 0.1  # time interval\n",
        "GRAVITY_ACCEL = 0.12  # gravity constant\n",
        "BOOST_ACCEL = 0.18  # thrust constant\n",
        "\n",
        "drag=0.03\n",
        "# # the following parameters are not being used in the sample code\n",
        "# PLATFORM_WIDTH = 0.25  # landing platform width\n",
        "# PLATFORM_HEIGHT = 0.06  # landing platform height\n",
        "# ROTATION_ACCEL = 20  # rotation constant"
      ],
      "execution_count": null,
      "outputs": []
    },
    {
      "cell_type": "code",
      "metadata": {
        "id": "iMHJEcg9e986"
      },
      "source": [
        "# define system dynamics\n",
        "# Notes: \n",
        "# 0. You only need to modify the \"forward\" function\n",
        "# 1. All variables in \"forward\" need to be PyTorch tensors.\n",
        "# 2. All math operations in \"forward\" has to be differentiable, e.g., default PyTorch functions.\n",
        "# 3. Do not use inplace operations, e.g., x += 1. Please see the following section for an example that does not work.\n",
        "\n",
        "class Dynamics(nn.Module):\n",
        "\n",
        "    def __init__(self):\n",
        "        super(Dynamics, self).__init__()\n",
        "\n",
        "    @staticmethod\n",
        "    def forward(state, action):\n",
        "\n",
        "        \"\"\"\n",
        "        action: thrust or no thrust\n",
        "        state[0] = y\n",
        "        state[1] = y_dot\n",
        "        \"\"\"\n",
        "        \n",
        "        # Apply gravity\n",
        "        # Note: Here gravity is used to change velocity which is the second element of the state vector\n",
        "        # Normally, we would do x[1] = x[1] + gravity * delta_time\n",
        "        # but this is not allowed in PyTorch since it overwrites one variable (x[1]) that is part of the computational graph to be differentiated.\n",
        "        # Therefore, I define a tensor dx = [0., gravity * delta_time], and do x = x + dx. This is allowed... \n",
        "        delta_state_gravity = t.tensor([0.,(GRAVITY_ACCEL-state[1] **2) * FRAME_TIME])\n",
        "\n",
        "        # Thrust\n",
        "        # Note: Same reason as above. Need a 2-by-1 tensor.\n",
        "        delta_state = BOOST_ACCEL * FRAME_TIME * t.tensor([0., -1.]) * action\n",
        "\n",
        "        # Update velocity\n",
        "        state = state + delta_state + delta_state_gravity \n",
        "        \n",
        "        # Update state\n",
        "        # Note: Same as above. Use operators on matrices/tensors as much as possible. Do not use element-wise operators as they are considered inplace.\n",
        "        step_mat = t.tensor([[1., FRAME_TIME],\n",
        "                            [0., 1.]])\n",
        "        state = t.matmul(step_mat, state)\n",
        "\n",
        "        return state"
      ],
      "execution_count": null,
      "outputs": []
    },
    {
      "cell_type": "code",
      "metadata": {
        "id": "fY_3sqf0CI3l"
      },
      "source": [
        "class Dynamics1(nn.Module):\n",
        "\n",
        "    def __init__(self):\n",
        "        super(Dynamics1, self).__init__()\n",
        "\n",
        "    @staticmethod\n",
        "    def forward(state, action):\n",
        "\n",
        "        \"\"\"\n",
        "        action: thrust or no thrust\n",
        "        state[0] = y\n",
        "        state[1] = y_dot\n",
        "        \"\"\"\n",
        "               \n",
        "        # Apply gravity\n",
        "        # Note: Here gravity is used to change velocity which is the second element of the state vector\n",
        "        # Normally, we would do x[1] = x[1] + gravity * delta_time\n",
        "        # but this is not allowed in PyTorch since it overwrites one variable (x[1]) that is part of the computational graph to be differentiated.\n",
        "        # Therefore, I define a tensor dx = [0., gravity * delta_time], and do x = x + dx. This is allowed... \n",
        "        delta_state_gravity = t.tensor([0., (GRAVITY_ACCEL-0.1*state[1] **2)* FRAME_TIME])\n",
        "\n",
        "        # Thrust\n",
        "        # Note: Same reason as above. Need a 2-by-1 tensor.\n",
        "        delta_state = BOOST_ACCEL * FRAME_TIME * t.tensor([0., -1.]) * action\n",
        "\n",
        "        # Update velocity\n",
        "        state = state + delta_state + delta_state_gravity\n",
        "        \n",
        "        # Update state\n",
        "        # Note: Same as above. Use operators on matrices/tensors as much as possible. Do not use element-wise operators as they are considered inplace.\n",
        "        step_mat = t.tensor([[1., FRAME_TIME],\n",
        "                            [0., 1.]])\n",
        "        state = t.matmul(step_mat, state)\n",
        "\n",
        "        return state"
      ],
      "execution_count": null,
      "outputs": []
    },
    {
      "cell_type": "code",
      "metadata": {
        "id": "LVY3ke_MCLRm"
      },
      "source": [
        "class Dynamics2(nn.Module):\n",
        "\n",
        "    def __init__(self):\n",
        "        super(Dynamics2, self).__init__()\n",
        "\n",
        "    @staticmethod\n",
        "    def forward(state, action):\n",
        "\n",
        "        \"\"\"\n",
        "        action: thrust or no thrust\n",
        "        state[0] = y\n",
        "        state[1] = y_dot\n",
        "        \"\"\"\n",
        "               \n",
        "        # Apply gravity\n",
        "        # Note: Here gravity is used to change velocity which is the second element of the state vector\n",
        "        # Normally, we would do x[1] = x[1] + gravity * delta_time\n",
        "        # but this is not allowed in PyTorch since it overwrites one variable (x[1]) that is part of the computational graph to be differentiated.\n",
        "        # Therefore, I define a tensor dx = [0., gravity * delta_time], and do x = x + dx. This is allowed... \n",
        "        delta_state_gravity = t.tensor([0., (GRAVITY_ACCEL-1*state[1] **2)* FRAME_TIME])\n",
        "\n",
        "        # Thrust\n",
        "        # Note: Same reason as above. Need a 2-by-1 tensor.\n",
        "        delta_state = BOOST_ACCEL * FRAME_TIME * t.tensor([0., -1.]) * action\n",
        "\n",
        "        # Update velocity\n",
        "        state = state + delta_state + delta_state_gravity\n",
        "        \n",
        "        # Update state\n",
        "        # Note: Same as above. Use operators on matrices/tensors as much as possible. Do not use element-wise operators as they are considered inplace.\n",
        "        step_mat = t.tensor([[1., FRAME_TIME],\n",
        "                            [0., 1.]])\n",
        "        state = t.matmul(step_mat, state)\n",
        "\n",
        "        return state"
      ],
      "execution_count": null,
      "outputs": []
    },
    {
      "cell_type": "code",
      "metadata": {
        "id": "VHNzjSrRfEBV"
      },
      "source": [
        "# a deterministic controller\n",
        "# Note:\n",
        "# 0. You only need to change the network architecture in \"__init__\"\n",
        "# 1. nn.Sigmoid outputs values from 0 to 1, nn.Tanh from -1 to 1\n",
        "# 2. You have all the freedom to make the network wider (by increasing \"dim_hidden\") or deeper (by adding more lines to nn.Sequential)\n",
        "# 3. Always start with something simple\n",
        "\n",
        "class Controller(nn.Module):\n",
        "\n",
        "    def __init__(self, dim_input, dim_hidden, dim_output):\n",
        "        \"\"\"\n",
        "        dim_input: # of system states\n",
        "        dim_output: # of actions\n",
        "        dim_hidden: up to you\n",
        "        \"\"\"\n",
        "        super(Controller, self).__init__()\n",
        "        self.network = nn.Sequential(\n",
        "            nn.Linear(dim_input, dim_hidden),\n",
        "            nn.Tanh(),\n",
        "            nn.Linear(dim_hidden, dim_output),\n",
        "            # You can add more layers here\n",
        "            nn.Sigmoid()\n",
        "        )\n",
        "\n",
        "    def forward(self, state):\n",
        "        action = self.network(state)\n",
        "        return action"
      ],
      "execution_count": null,
      "outputs": []
    },
    {
      "cell_type": "code",
      "metadata": {
        "id": "_KGh0fchfF6V"
      },
      "source": [
        "# the simulator that rolls out x(1), x(2), ..., x(T)\n",
        "# Note:\n",
        "# 0. Need to change \"initialize_state\" to optimize the controller over a distribution of initial states\n",
        "# 1. self.action_trajectory and self.state_trajectory stores the action and state trajectories along time\n",
        "\n",
        "class Simulation(nn.Module):\n",
        "\n",
        "    def __init__(self, controller, dynamics, T):\n",
        "        super(Simulation, self).__init__()\n",
        "        self.state = self.initialize_state()\n",
        "        self.controller = controller\n",
        "        self.dynamics = dynamics\n",
        "        self.T = T\n",
        "        self.action_trajectory = []\n",
        "        self.state_trajectory = []\n",
        "\n",
        "    def forward(self, state):\n",
        "        self.action_trajectory = []\n",
        "        self.state_trajectory = []\n",
        "        for _ in range(T):\n",
        "            action = self.controller.forward(state)\n",
        "            state = self.dynamics.forward(state, action)\n",
        "            self.action_trajectory.append(action)\n",
        "            self.state_trajectory.append(state)\n",
        "        return self.error(state)\n",
        "\n",
        "    @staticmethod\n",
        "    def initialize_state():\n",
        "        state = [1., 0.]  # TODO: need batch of initial states\n",
        "        return t.tensor(state, requires_grad=False).float()\n",
        "\n",
        "    def error(self, state):\n",
        "        return state[0]**2 + state[1]**2"
      ],
      "execution_count": null,
      "outputs": []
    },
    {
      "cell_type": "code",
      "metadata": {
        "id": "rU-ijmEcfHjN"
      },
      "source": [
        "# set up the optimizer\n",
        "# Note:\n",
        "# 0. LBFGS is a good choice if you don't have a large batch size (i.e., a lot of initial states to consider simultaneously)\n",
        "# 1. You can also try SGD and other momentum-based methods implemented in PyTorch\n",
        "# 2. You will need to customize \"visualize\"\n",
        "# 3. loss.backward is where the gradient is calculated (d_loss/d_variables)\n",
        "# 4. self.optimizer.step(closure) is where gradient descent is done\n",
        "\n",
        "class Optimize:\n",
        "    def __init__(self, simulation):\n",
        "        self.simulation = simulation\n",
        "        self.parameters = simulation.controller.parameters()\n",
        "        self.optimizer = optim.LBFGS(self.parameters, lr=0.01)\n",
        "\n",
        "    def step(self):\n",
        "        def closure():\n",
        "            loss = self.simulation(self.simulation.state)\n",
        "            self.optimizer.zero_grad()\n",
        "            loss.backward()\n",
        "            return loss\n",
        "        self.optimizer.step(closure)\n",
        "        return closure()\n",
        "    \n",
        "    def train(self, epochs):\n",
        "        for epoch in range(epochs):\n",
        "            loss = self.step()\n",
        "            #print('[%d] loss: %.3f' % (epoch + 1, loss))\n",
        "            #self.visualize(self,epoch)\n",
        "            data = np.array([self.simulation.state_trajectory[i].detach().numpy() for i in range(self.simulation.T)])\n",
        "            x = data[:, 0]\n",
        "            y = data[:, 1]\n",
        "        \n",
        "        return [x,y,loss]\n",
        "        \n",
        "        \n",
        "    '''     \n",
        "    def visualize(self,ii):\n",
        "        data = np.array([self.simulation.state_trajectory[i].detach().numpy() for i in range(self.simulation.T)])\n",
        "        x[:,ii] = data[:, 0]\n",
        "        y[:,ii] = data[:, 1]\n",
        "        #plt.plot(x, y)\n",
        "        #plt.show()\n",
        "     '''"
      ],
      "execution_count": null,
      "outputs": []
    },
    {
      "cell_type": "code",
      "metadata": {
        "id": "t0bvjVQyfI6u"
      },
      "source": [
        "# Now it's time to run the code!\n",
        "\n",
        "T = 100  # number of time steps\n",
        "dim_input = 2  # state space dimensions\n",
        "dim_hidden = 6  # latent dimensions\n",
        "dim_output = 1  # action space dimensions\n",
        "d = Dynamics()  # define dynamics\n",
        "c = Controller(dim_input, dim_hidden, dim_output)  # define controller\n",
        "s = Simulation(c, d, T)  # define simulation\n",
        "o = Optimize(s)  # define optimizer\n",
        "xx,yy,loss1=o.train(40)  # solve the optimization problem"
      ],
      "execution_count": null,
      "outputs": []
    },
    {
      "cell_type": "code",
      "metadata": {
        "id": "Nddt6IaqCV96"
      },
      "source": [
        "d = Dynamics1()# define dynamics without drag\n",
        "c = Controller(dim_input, dim_hidden, dim_output)  # define controller\n",
        "s = Simulation(c, d, T)  # define simulation\n",
        "o = Optimize(s)  # define optimizer\n",
        "xx1,yy1,loss2=o.train(40)  # solve the optimization problem"
      ],
      "execution_count": null,
      "outputs": []
    },
    {
      "cell_type": "code",
      "metadata": {
        "colab": {
          "base_uri": "https://localhost:8080/",
          "height": 283
        },
        "id": "LVqh_wwSCZCJ",
        "outputId": "4478c546-f950-42c2-ad8d-6a132153247c"
      },
      "source": [
        "d = Dynamics2()# define dynamics with drag=0.01\n",
        "c = Controller(dim_input, dim_hidden, dim_output)  # define controller\n",
        "s = Simulation(c, d, T)  # define simulation\n",
        "o = Optimize(s)  # define optimizer\n",
        "xx2,yy2,loss3=o.train(40)  # solve the optimization problem\n",
        "print('loss with drag=1: %.3f' % loss1,'; loss with drag=0.01: %.3f '% loss3,';loss without drag: %.3f'% loss2)\n",
        "plt.plot(xx, yy,'g-',xx1,yy1,'b.',xx2,yy2,'r--')\n",
        "plt.show()\n"
      ],
      "execution_count": null,
      "outputs": [
        {
          "output_type": "stream",
          "name": "stdout",
          "text": [
            "loss with drag=1: 0.000 ; loss with drag=0.01: 0.000  ;loss without drag: 0.000\n"
          ]
        },
        {
          "output_type": "display_data",
          "data": {
            "image/png": "[encoded data removed]",
            "text/plain": [
              "<Figure size 432x288 with 1 Axes>"
            ]
          },
          "metadata": {
            "needs_background": "light"
          }
        }
      ]
    },
    {
      "cell_type": "markdown",
      "metadata": {
        "id": "XuCa4CtU9nAV"
      },
      "source": [
        "1. Problem Formulation:\n",
        "\n",
        "  Motion of a falling object with air resistance (drag)\n",
        "\n",
        "  F=ma=mg-D\n",
        "\n",
        "  a=F/m=(mg-D)/m\n",
        "\n",
        "  D/m=Cd*r*(v^2)*A/m*2 = α*v^2 (let α = Cd*r*A/2*m)\n",
        "\n",
        "  As a result, a=g-α*v^2 (↓) (let g=0.12, α=1,0,0.01)\n",
        "\n",
        "  Optimization problem frmulation:\n",
        "\n",
        "  min ||X(T)||^2=d(T)^2+v(T)^2\n",
        "\n",
        "  d(t+1)=d(t)+v(t)Δt\n",
        "\n",
        "  v(t+1)=v(t)+a(t)Δt\n",
        "\n",
        "  a(t)=0.12-α*v(t)^2  t=1.....,T-1 (T=40)\n",
        "\n",
        "  x=[d(t);v(t)]\n",
        "\n",
        "  loss function = x[0]^2+X[1]^2\n",
        "\n",
        "2. Python code above\n",
        "3. Result Analyzation: The result converge whe drag=1,0,0.01. Also, the loss=||x(T)||^2 approact to 0 with 40 iteration.\n",
        "\n",
        "   Green line:α=1(with drag) Blue line:α=0(no drag) Red line:α=0.01(with drag)\n",
        "\n",
        "   When the rocket is in the higher altitude (d(t)=1~0.4), since the air is thiner at this altitude, α=0.01 the drag has smaller effect on the rocket and the velocity of the rocket opposite to the ground is smaller. \n",
        "   \n",
        "   However, when the rocket is at a lower altitude (d(t)=0.4~0), the air is thicker at this altitude. As a result, the drag has greater effect on the rocket. The rocket has higher velockty opposite to the ground as α=1"
      ]
    },
    {
      "cell_type": "code",
      "metadata": {
        "id": "oyOb2473PGa_"
      },
      "source": [
        "from sympy import *\n",
        "import matplotlib.pyplot as plt\n",
        "import numpy as np\n",
        "import math\n",
        "\n",
        "\n",
        "\n",
        "cx=np.array([0,-0.35,0.39,0.4,-0.35])\n",
        "cy=np.array([0,-0.4,0.39,-0.35,0.4])\n",
        "r=np.array([1,0.17,0.12,0.18,0.13])\n",
        "qd=np.array([0,0])\n",
        "q=np.array([0.75,-0.6])\n",
        "\n",
        "x=symbols('x')\n",
        "y=symbols('y')\n",
        "b=1\n",
        "\n",
        "for i in range(0,len(cx)):\n",
        "    b=b*((x-cx[i])**2+(y-cy[i])**2-r[i]**2)\n",
        "    \n",
        "b=-b\n",
        "k=3.5\n",
        "\n",
        "g=(x-qd[0])**2+(y-qd[1])**2\n",
        "g=g/((g**k+b)**(1/k))\n",
        "\n",
        "e=0.05\n",
        "dt=0.01\n",
        "p=np.array([])\n",
        "p=np.concatenate((p,q))\n",
        "\n",
        "\n",
        "while(((q[0]-qd[0])**2+(q[1]-qd[1])**2)**0.5>e):\n",
        "    dx=diff(g,x)\n",
        "    dy=diff(g,y)\n",
        "    dxv=dx.evalf(subs={x:q[0],y:q[1]})\n",
        "    dyv=dy.evalf(subs={x:q[0],y:q[1]})\n",
        "    \n",
        "    q[0]=q[0]-1/((q[0]-qd[0])**2+(q[1]-qd[1])**2)**0.5*dxv*dt\n",
        "    q[1]=q[1]-1/((q[0]-qd[0])**2+(q[1]-qd[1])**2)**0.5*dyv*dt\n",
        "    p=np.concatenate((p,q))\n",
        "    \n",
        "\n",
        "a=np.reshape(p,(-1,2))\n",
        "\n",
        "fig = plt.figure() \n",
        "figure, axes = plt.subplots()\n",
        "\n",
        "for i in range(0,len(cx)-1):\n",
        "    draw_circle = plt.Circle((cx[i+1], cy[i+1]), r[i+1])\n",
        "    plt.gca().add_patch(draw_circle)\n",
        "    axes.set_aspect(1)\n",
        "    #axes.add_artist(draw_circle)\n",
        "\n",
        "plt.plot(a[:,0],a[:,1])\n",
        "\n",
        "plt.xlabel('X position')\n",
        "plt.ylabel('Y position')\n",
        "plt.title('robot trajectory for navigation function with 4 obstacles')\n",
        "\n",
        "plt.show()"
      ],
      "execution_count": null,
      "outputs": []
    },
    {
      "cell_type": "code",
      "metadata": {
        "id": "ZHQ5z12IN7sF"
      },
      "source": [
        "import logging\n",
        "import math\n",
        "import random\n",
        "import numpy as np\n",
        "import time\n",
        "import torch as t\n",
        "import torch.nn as nn\n",
        "from torch import optim\n",
        "from torch.nn import utils\n",
        "import matplotlib.pyplot as plt\n",
        "\n",
        "kappa = 3.5\n",
        "qd=np.array([0,0],dtype=np.complex)\n",
        "center = np.array([[0, 0],\n",
        "                   [-0.35, -0.4],\n",
        "                   [0.39, 0.39],\n",
        "                   [0.4, -0.35], \n",
        "                   [-0.35, 0.4]])\n",
        "radius = np.array([[1],\n",
        "                   [0.17],\n",
        "                   [0.12], \n",
        "                   [0.18], \n",
        "                   [0.13]])\n",
        "#beta_sphere = t.tensor([])\n",
        "#x=t.arange(-1, 1, 0.01)\n",
        "#y=t.arange(-1, 1,0.01)\n",
        "#X,Y = t.meshgrid(x,y)\n",
        "x1 = np.arange(start=0, stop=1, step=0.01)\n",
        "x2 = np.arange(start=0, stop=1, step=0.01)\n",
        "Xm, Ym = np.meshgrid(x1, x2)"
      ],
      "execution_count": null,
      "outputs": []
    },
    {
      "cell_type": "code",
      "metadata": {
        "colab": {
          "base_uri": "https://localhost:8080/"
        },
        "id": "PiV_HsbrVegL",
        "outputId": "30a5e8b9-3b73-4e4e-ade7-2a86a6c0c842"
      },
      "source": [
        "def Obstacle (x,y):\n",
        "  beta_sphere=np.zeros(len(radius))\n",
        "  #print(beta_sphere)\n",
        "  beta_sphere[0]=(radius[0]**2-(x-center[0][0])**2+(y-center[0][1])**2)\n",
        "  #print(beta_sphere)\n",
        "  i=1\n",
        "  for i in range (len(radius)):\n",
        "     beta_sphere[i]=((x-center[i,0])**2+(y-center[i,1])**2)-(radius[i,0])**2 \n",
        "  #print(beta_sphere)\n",
        "  beta_prod = np.ones(len(beta_sphere))\n",
        "  i=1\n",
        "  for i in range (len(beta_sphere)):\n",
        "    beta_prod = beta_prod*beta_sphere[i]\n",
        "\n",
        "  gamma = (x-qd[0])**2+(y-qd[1])**2\n",
        "  nav_sys= gamma/(gamma**kappa+beta_prod)**(1/kappa)\n",
        "  return nav_sys\n",
        "\n",
        "print(Obstacle(0.2,0.17))\n",
        "\n",
        "\n",
        "def navigation ():\n",
        "  gamma = t.tensor((xy[0]-qd[0])**2+(xy[1]-qd[1])**2)\n",
        "  nav_sys = t.tensor(gamma/(gamma**kappa+beta_prod)**(1/kappa))\n",
        "  return nav_sys"
      ],
      "execution_count": null,
      "outputs": [
        {
          "output_type": "stream",
          "name": "stdout",
          "text": [
            "[0.21457846-0.26907288j 0.21457846-0.26907288j 0.21457846-0.26907288j\n",
            " 0.21457846-0.26907288j 0.21457846-0.26907288j]\n"
          ]
        }
      ]
    },
    {
      "cell_type": "code",
      "metadata": {
        "id": "oyEFzEeyk6NY"
      },
      "source": [
        "def loss_fun(x,y)\n",
        "  cord = Variable(x, requires_grad=True)\n",
        "  a=0.001\n",
        "  for i in range (10)\n",
        "     loss = "
      ],
      "execution_count": null,
      "outputs": []
    },
    {
      "cell_type": "code",
      "metadata": {
        "colab": {
          "base_uri": "https://localhost:8080/",
          "height": 131
        },
        "id": "HpY0aC1nLf5f",
        "outputId": "c02aa6ab-aaf9-4cdd-b5c5-334450fcf811"
      },
      "source": [
        "gamma = ((X-qd[0,0])**2+(Y-qd[0,1]**2)\n",
        "nav = (gamma / (gamma**kappa+beta_prob)**(1/kappa))\n",
        "fig = plt.figure()\n",
        "plt.title('Contour plot')\n",
        "contours=plt.contourf(X, Y, nav,cmap='viridis')\n",
        "plt.clabel(contours, inline=True, fontsize=15)\n",
        "plt.colorbar()"
      ],
      "execution_count": null,
      "outputs": [
        {
          "output_type": "error",
          "ename": "SyntaxError",
          "evalue": "ignored",
          "traceback": [
            "\u001b[0;36m  File \u001b[0;32m\"<ipython-input-40-b7d8a748403c>\"\u001b[0;36m, line \u001b[0;32m2\u001b[0m\n\u001b[0;31m    nav = (gamma / (gamma**kappa+beta_prob)**(1/kappa))\u001b[0m\n\u001b[0m      ^\u001b[0m\n\u001b[0;31mSyntaxError\u001b[0m\u001b[0;31m:\u001b[0m invalid syntax\n"
          ]
        }
      ]
    }
  ]
}